{
 "cells": [
  {
   "cell_type": "markdown",
   "metadata": {},
   "source": [
    "# What is F&#35;\n",
    "- F# is a modern functional-first programming languge heavily inspired by OCaml\n",
    "  - It's not quite OCaml on .Net, but pretty close.\n",
    "  - You can write OO-style code in F#, but it will feel foreign and is considered an anti-pattern when not needed\n",
    "    \n",
    "- F# is statically-typed, but has a great type inference that allows you to write code as if it were a dynamically typed language\n",
    "  - It's not perfect, but works very well.\n",
    "\n",
    "- Performant\n",
    "  - Overall, C# does tend to be faster, but in most circumstances the difference in performance between the 2 languages is negligible.\n",
    "\n",
    "- Can be used for application development (`.fs`) as well as creating scripts (`.fsx`)"
   ]
  },
  {
   "cell_type": "markdown",
   "metadata": {},
   "source": [
    "# What is F&#35; designed to do\n",
    "(from [Fsharp For Fun and Profit](https://fsharpforfunandprofit.com/why-use-fsharp/))\n",
    "- Conciseness\n",
    "  - Write less code to accomplish big tasks\n",
    "- Convenience\n",
    "  - Create powerful and reusable code\n",
    "- Correctness\n",
    "  - Utilizing a strong type system to prevent bugs\n",
    "- Concurrency\n",
    "  - Make Asynchronus programming easier to write, manage, and grok\n",
    "- Completeness\n",
    "  - Be Functional but allow for OO where necessary."
   ]
  },
  {
   "cell_type": "markdown",
   "metadata": {},
   "source": [
    "# F&#35; runs on .NET and JS\n",
    "- You can compile F# to Javascript\n",
    "  - [Fable](https://fable.io) is a F# to JS compiler\n",
    "    - Can do F# <=> JS Interop\n",
    "  - [Elmish](https://elmish.github.io/elmish/)\n",
    "    - Although you can use React with F#, there is a lot of community support around Elm"
   ]
  },
  {
   "cell_type": "markdown",
   "metadata": {},
   "source": [
    "# Getting Started\n",
    "\n",
    "- Checkout installation instructions for F# at [fsharp.org](https://fsharp.org) under the `Use` tab.\n",
    "- If you are not on Windows:\n",
    "  - Install [Mono runtime](https://www.mono-project.com/download/stable/) (if you haven't already)\n",
    "- Install the latest version of [Dotnet Core](https://dotnet.microsoft.com/download)\n",
    "\n",
    "## For editing code, you can use:\n",
    "- [Visual Studio Code](https://code.visualstudio.com/download) with the [Ionide](http://ionide.io) plugin\n",
    "  - Recommend for just starting out.\n",
    "- Visual Studio / Visual Studio for Mac\n",
    "- Jetbrains Rider (commercial)\n",
    "- Emacs/Vim\n",
    "\n",
    "## To Follow Along ..\n",
    "Do the above and then\n",
    "\n",
    "### In a notebook\n",
    "- Follow instructions above to install F# (and Mono if you are on mac/linux)\n",
    "- clone this repo\n",
    "- install juptyer (if you haven't already)\n",
    "```\n",
    "python3 -m pip install --upgrade pip\n",
    "python3 -m pip install jupyter\n",
    "```\n",
    "- Download [F# Juptyer Kernel](https://github.com/fsprojects/IfSharp/releases/download/v3.0.1/IfSharp.v3.0.1.zip)\n",
    "- Unzip the release then run `mono ifsharp.exe` (this sets up the Jupyter kernel files in ~/.local/share/jupyter/kernels/ifsharp/)\n",
    "  - if on Windows just `ifsharp.exe\n",
    "- finally run `jupyter notebook` from this repo and open the `Learn-FSharp.pynb` notebook\n",
    "\n",
    "### In Visual Studio Code\n",
    "- Install Visual Studio Code and Ionide (links above)\n",
    "- Open the `Command Pallete`\n",
    "  - Mac\n",
    "    - `Cmd` + `Shift` + `p`\n",
    "  - Windows & Linux\n",
    "    - `Ctrl` + `Shift` + `p`\n",
    "- Create a new F# project by selecting: `F#: New Project`\n",
    "  - Follow all prompts to create a new project\n",
    "- Once in the F# project, open up `FSI` (Fsharp Interactive) a F# REPL\n",
    "  - Open the `Command Pallete`\n",
    "  - select `FSI: Start`"
   ]
  },
  {
   "cell_type": "markdown",
   "metadata": {},
   "source": [
    "# Anatomy of a F# Program"
   ]
  },
  {
   "cell_type": "code",
   "execution_count": 15,
   "metadata": {},
   "outputs": [],
   "source": [
    "open System                   // Importing or Referencing external modules\n",
    "    \n",
    "module NotebookExample =      // module definition for namespacing\n",
    "  let aVariable = 1           // a immutable variable\n",
    "  let add a b = a + b         // a function defintion\n",
    "  \n",
    "  [<Obsolete(\"Deprecated\")>]  //an attribute (like annotations in Java, Attributes in C#)\n",
    "  let someDeprecatedFunction a b = a + b\n",
    "  \n",
    "  add 1 2                     // calling function with 2 parameters\n",
    "  add aVariable 2             // calling function with 2 parameters, one defined as a var"
   ]
  },
  {
   "cell_type": "markdown",
   "metadata": {},
   "source": [
    "# [Modules](https://docs.microsoft.com/en-us/dotnet/fsharp/language-reference/modules)\n",
    "- Modules are to F# like\n",
    "  - Packages are to Java\n",
    "  - Namespaces are to C#\n",
    "  - Modules are to Python/JS"
   ]
  },
  {
   "cell_type": "markdown",
   "metadata": {},
   "source": [
    "# [Types](https://docs.microsoft.com/en-us/dotnet/fsharp/language-reference/fsharp-types)"
   ]
  },
  {
   "cell_type": "markdown",
   "metadata": {},
   "source": [
    "## [Literals](https://docs.microsoft.com/en-us/dotnet/fsharp/language-reference/literals)\n",
    "(stolen from [F# Literals](https://docs.microsoft.com/en-us/dotnet/fsharp/language-reference/literals))"
   ]
  },
  {
   "cell_type": "markdown",
   "metadata": {},
   "source": [
    "<table>\n",
    "<thead>\n",
    "<tr>\n",
    "<th class=\"x-hidden-focus\">Type</th>\n",
    "<th>Description</th>\n",
    "<th>Suffix or prefix</th>\n",
    "<th>Examples</th>\n",
    "</tr>\n",
    "</thead>\n",
    "<tbody>\n",
    "<tr>\n",
    "<td>sbyte</td>\n",
    "<td>signed 8-bit integer</td>\n",
    "<td>y</td>\n",
    "<td><code>86y</code><br><br><code>0b00000101y</code></td>\n",
    "</tr>\n",
    "<tr>\n",
    "<td>byte</td>\n",
    "<td>unsigned 8-bit natural number</td>\n",
    "<td>uy</td>\n",
    "<td><code>86uy</code><br><br><code>0b00000101uy</code></td>\n",
    "</tr>\n",
    "<tr>\n",
    "<td>int16</td>\n",
    "<td>signed 16-bit integer</td>\n",
    "<td>s</td>\n",
    "<td><code>86s</code></td>\n",
    "</tr>\n",
    "<tr>\n",
    "<td>uint16</td>\n",
    "<td>unsigned 16-bit natural number</td>\n",
    "<td>us</td>\n",
    "<td><code>86us</code></td>\n",
    "</tr>\n",
    "<tr>\n",
    "<td>int<br><br>int32</td>\n",
    "<td>signed 32-bit integer</td>\n",
    "<td>l or none</td>\n",
    "<td><code>86</code><br><br><code>86l</code></td>\n",
    "</tr>\n",
    "<tr>\n",
    "<td>uint<br><br>uint32</td>\n",
    "<td>unsigned 32-bit natural number</td>\n",
    "<td>u or ul</td>\n",
    "<td><code>86u</code><br><br><code>86ul</code></td>\n",
    "</tr>\n",
    "<tr>\n",
    "<td>unativeint</td>\n",
    "<td>native pointer as an unsigned natural number</td>\n",
    "<td>un</td>\n",
    "<td><code>0x00002D3Fun</code></td>\n",
    "</tr>\n",
    "<tr>\n",
    "<td>int64</td>\n",
    "<td>signed 64-bit integer</td>\n",
    "<td>L</td>\n",
    "<td><code>86L</code></td>\n",
    "</tr>\n",
    "<tr>\n",
    "<td>uint64</td>\n",
    "<td>unsigned 64-bit natural number</td>\n",
    "<td>UL</td>\n",
    "<td><code>86UL</code></td>\n",
    "</tr>\n",
    "<tr>\n",
    "<td>single, float32</td>\n",
    "<td>32-bit floating point number</td>\n",
    "<td>F or f</td>\n",
    "<td><code>4.14F</code> or <code>4.14f</code></td>\n",
    "</tr>\n",
    "<tr>\n",
    "<td></td>\n",
    "<td></td>\n",
    "<td>lf</td>\n",
    "<td><code>0x00000000lf</code></td>\n",
    "</tr>\n",
    "<tr>\n",
    "<td>float; double</td>\n",
    "<td>64-bit floating point number</td>\n",
    "<td>none</td>\n",
    "<td><code>4.14</code> or <code>2.3E+32</code> or <code>2.3e+32</code></td>\n",
    "</tr>\n",
    "<tr>\n",
    "<td></td>\n",
    "<td></td>\n",
    "<td>LF</td>\n",
    "<td><code>0x0000000000000000LF</code></td>\n",
    "</tr>\n",
    "<tr>\n",
    "<td>bigint</td>\n",
    "<td>integer not limited to 64-bit representation</td>\n",
    "<td>I</td>\n",
    "<td><code>9999999999999999999999999999I</code></td>\n",
    "</tr>\n",
    "<tr>\n",
    "<td>decimal</td>\n",
    "<td>fractional number represented as a fixed point or rational number</td>\n",
    "<td>M or m</td>\n",
    "<td><code>0.7833M</code> or <code>0.7833m</code></td>\n",
    "</tr>\n",
    "<tr>\n",
    "<td>Char</td>\n",
    "<td>Unicode character</td>\n",
    "<td>none</td>\n",
    "<td><code>'a'</code></td>\n",
    "</tr>\n",
    "<tr>\n",
    "<td>String</td>\n",
    "<td>Unicode string</td>\n",
    "<td>none</td>\n",
    "<td><code>\"text\\n\"</code><br><br>or<br><br><code>@\"c:\\filename\"</code><br><br>or<br><br><code>\"\"\"&lt;book title=\"Paradise Lost\"&gt;\"\"\"</code><br><br>or<br><br><code>\"string1\" + \"string2\"</code><br><br>See also <a href=\"strings\" data-linktype=\"relative-path\">Strings</a>.</td>\n",
    "</tr>\n",
    "<tr>\n",
    "<td>byte</td>\n",
    "<td>ASCII character</td>\n",
    "<td>B</td>\n",
    "<td><code>'a'B</code></td>\n",
    "</tr>\n",
    "<tr>\n",
    "<td>byte[]</td>\n",
    "<td>ASCII string</td>\n",
    "<td>B</td>\n",
    "<td><code>\"text\"B</code></td>\n",
    "</tr>\n",
    "<tr>\n",
    "<td>String or byte[]</td>\n",
    "<td>verbatim string</td>\n",
    "<td>@ prefix</td>\n",
    "<td><code>@\"\\\\server\\share\"</code> (Unicode)<br><br><code>@\"\\\\server\\share\"B</code> (ASCII)</td>\n",
    "</tr>\n",
    "</tbody>\n",
    "</table>"
   ]
  },
  {
   "cell_type": "markdown",
   "metadata": {},
   "source": [
    "## Numbers"
   ]
  },
  {
   "cell_type": "markdown",
   "metadata": {},
   "source": [
    "### Double / Float"
   ]
  },
  {
   "cell_type": "code",
   "execution_count": 16,
   "metadata": {},
   "outputs": [
    {
     "data": {
      "text/plain": [
       "1.0"
      ]
     },
     "execution_count": 16,
     "metadata": {},
     "output_type": "execute_result"
    }
   ],
   "source": [
    "1.0"
   ]
  },
  {
   "cell_type": "markdown",
   "metadata": {},
   "source": [
    "### Decimal\n",
    "- Good for using with financial calculations or where decimal precision matters"
   ]
  },
  {
   "cell_type": "code",
   "execution_count": 17,
   "metadata": {},
   "outputs": [
    {
     "data": {
      "text/plain": [
       "3.575M"
      ]
     },
     "execution_count": 17,
     "metadata": {},
     "output_type": "execute_result"
    }
   ],
   "source": [
    "let aDecimal: decimal = 1.23m\n",
    "let bDecimal: decimal = 2.345m\n",
    "\n",
    "//Decimal.Add(aDecimal, bDecimal)\n",
    "aDecimal + bDecimal"
   ]
  },
  {
   "cell_type": "markdown",
   "metadata": {},
   "source": [
    "### Integer"
   ]
  },
  {
   "cell_type": "code",
   "execution_count": 18,
   "metadata": {},
   "outputs": [
    {
     "data": {
      "text/plain": [
       "1"
      ]
     },
     "execution_count": 18,
     "metadata": {},
     "output_type": "execute_result"
    }
   ],
   "source": [
    "1"
   ]
  },
  {
   "cell_type": "markdown",
   "metadata": {},
   "source": [
    "## Boolean"
   ]
  },
  {
   "cell_type": "code",
   "execution_count": 19,
   "metadata": {},
   "outputs": [
    {
     "data": {
      "text/plain": [
       "true"
      ]
     },
     "execution_count": 19,
     "metadata": {},
     "output_type": "execute_result"
    }
   ],
   "source": [
    "let a = true\n",
    "a"
   ]
  },
  {
   "cell_type": "markdown",
   "metadata": {},
   "source": [
    "## [Strings](https://docs.microsoft.com/en-us/dotnet/fsharp/language-reference/strings)"
   ]
  },
  {
   "cell_type": "code",
   "execution_count": 20,
   "metadata": {},
   "outputs": [
    {
     "data": {
      "text/plain": [
       "\"withNewLine\""
      ]
     },
     "execution_count": 20,
     "metadata": {},
     "output_type": "execute_result"
    }
   ],
   "source": [
    "\"withNewLine\""
   ]
  },
  {
   "cell_type": "code",
   "execution_count": 21,
   "metadata": {},
   "outputs": [
    {
     "data": {
      "text/plain": [
       "\" Check \n",
       "out \n",
       "multiline \n",
       "string\n",
       "\""
      ]
     },
     "execution_count": 21,
     "metadata": {},
     "output_type": "execute_result"
    }
   ],
   "source": [
    "@\" Check \n",
    "out \n",
    "multiline \n",
    "string\n",
    "\""
   ]
  },
  {
   "cell_type": "code",
   "execution_count": 22,
   "metadata": {},
   "outputs": [
    {
     "data": {
      "text/plain": [
       "\" String literal \"strings\" \""
      ]
     },
     "execution_count": 22,
     "metadata": {},
     "output_type": "execute_result"
    }
   ],
   "source": [
    "\"\"\" String literal \"strings\" \"\"\""
   ]
  },
  {
   "cell_type": "markdown",
   "metadata": {},
   "source": [
    "## Null\n",
    "- Although not used in F#, it exists to deal with C# interop.\n",
    "- You should never use null in idiomatic F#"
   ]
  },
  {
   "cell_type": "code",
   "execution_count": 23,
   "metadata": {},
   "outputs": [],
   "source": [
    "let a = null\n",
    "a"
   ]
  },
  {
   "cell_type": "markdown",
   "metadata": {},
   "source": [
    "## [Unit](https://docs.microsoft.com/en-us/dotnet/fsharp/language-reference/unit-type)\n",
    "- Kind of like null\n",
    "- Where you would find `null` in other languages, you would most likely find Unit\n",
    "- Also comprable to `void` in other languages"
   ]
  },
  {
   "cell_type": "code",
   "execution_count": 29,
   "metadata": {},
   "outputs": [],
   "source": [
    "let aa (x: int) = ()\n",
    "aa 1"
   ]
  },
  {
   "cell_type": "markdown",
   "metadata": {},
   "source": [
    "## [Option](https://docs.microsoft.com/en-us/dotnet/fsharp/language-reference/options)\n",
    "- If you need to represent the absence of a value utilize an Option type\n",
    "- An Option type is a discriminated union (don't worry we'll cover this later) of `Some` Or `None`\n",
    "- i.e. You will either have `Some` value or `None`"
   ]
  },
  {
   "cell_type": "code",
   "execution_count": null,
   "metadata": {},
   "outputs": [],
   "source": [
    "let theOne a = if a = 1 then Some 1 else None\n",
    "\n",
    "theOne 1\n",
    "// for some reason returning None fails the notebook kernel\n",
    "// output for anything other than one returns: \n",
    "// int option = None"
   ]
  },
  {
   "cell_type": "markdown",
   "metadata": {},
   "source": [
    "## [Units of Measure](https://docs.microsoft.com/en-us/dotnet/fsharp/language-reference/units-of-measure)\n",
    "- You can define your own units of measure by adding metadata to a type\n",
    "- See [here](https://fsharpforfunandprofit.com/posts/units-of-measure/) for more information"
   ]
  },
  {
   "cell_type": "code",
   "execution_count": null,
   "metadata": {},
   "outputs": [],
   "source": [
    "[<Measure>] type m\n",
    "[<Measure>] type sec\n",
    "[<Measure>] type kg\n",
    "\n",
    "let distance = 1.0<m>    \n",
    "let time = 2.0<sec>\n",
    "\n",
    "let speed = distance/time \n",
    "printfn \"Speed: %A\" speed\n",
    "\n",
    "let acceleration = speed/time\n",
    "printfn \"Acceleration: %A\" acceleration\n",
    "\n",
    "let mass = 5.0<kg> \n",
    "let force = mass * speed/time\n",
    "printfn \"Force: %A\" force\n",
    "\n",
    "// What happens if we try to Han Solo our calculations and mix up distance and time?\n",
    "// printfn \"Time + Distance %A\" (distance + time)"
   ]
  },
  {
   "cell_type": "markdown",
   "metadata": {},
   "source": [
    "## [Tuples](https://docs.microsoft.com/en-us/dotnet/fsharp/language-reference/tuples)"
   ]
  },
  {
   "cell_type": "code",
   "execution_count": 26,
   "metadata": {},
   "outputs": [
    {
     "data": {
      "text/plain": [
       "(1, 2)"
      ]
     },
     "execution_count": 26,
     "metadata": {},
     "output_type": "execute_result"
    }
   ],
   "source": [
    "(1, 2)"
   ]
  },
  {
   "cell_type": "code",
   "execution_count": 27,
   "metadata": {},
   "outputs": [
    {
     "data": {
      "text/plain": [
       "(1, 2)"
      ]
     },
     "execution_count": 27,
     "metadata": {},
     "output_type": "execute_result"
    }
   ],
   "source": [
    "1,2"
   ]
  },
  {
   "cell_type": "markdown",
   "metadata": {},
   "source": [
    "# Collection Types"
   ]
  },
  {
   "cell_type": "markdown",
   "metadata": {},
   "source": [
    "## [List](https://docs.microsoft.com/en-us/dotnet/fsharp/language-reference/lists)"
   ]
  },
  {
   "cell_type": "code",
   "execution_count": null,
   "metadata": {},
   "outputs": [],
   "source": [
    "[1 ; 2; 3]"
   ]
  },
  {
   "cell_type": "code",
   "execution_count": null,
   "metadata": {},
   "outputs": [],
   "source": [
    "[\n",
    "1\n",
    "2\n",
    "3\n",
    "]"
   ]
  },
  {
   "cell_type": "code",
   "execution_count": null,
   "metadata": {},
   "outputs": [],
   "source": [
    "[1 .. 10]"
   ]
  },
  {
   "cell_type": "code",
   "execution_count": null,
   "metadata": {},
   "outputs": [],
   "source": [
    "[ for i in 1 .. 10 -> i*i ]"
   ]
  },
  {
   "cell_type": "code",
   "execution_count": null,
   "metadata": {},
   "outputs": [],
   "source": [
    "let list1 = [1; 2; 3]\n",
    "100 :: list1"
   ]
  },
  {
   "cell_type": "markdown",
   "metadata": {},
   "source": [
    "## [Array](https://docs.microsoft.com/en-us/dotnet/fsharp/language-reference/arrays)"
   ]
  },
  {
   "cell_type": "code",
   "execution_count": null,
   "metadata": {},
   "outputs": [],
   "source": [
    "[| 1; 2; 3 |]"
   ]
  },
  {
   "cell_type": "code",
   "execution_count": 2,
   "metadata": {},
   "outputs": [
    {
     "data": {
      "text/plain": [
       "[|1; 2; 3|]"
      ]
     },
     "execution_count": 2,
     "metadata": {},
     "output_type": "execute_result"
    }
   ],
   "source": [
    "[| 1\n",
    "   2 \n",
    "   3 \n",
    "|]"
   ]
  },
  {
   "cell_type": "code",
   "execution_count": null,
   "metadata": {},
   "outputs": [],
   "source": [
    "[| for i in 1 .. 10 -> i * i |]"
   ]
  },
  {
   "cell_type": "code",
   "execution_count": null,
   "metadata": {},
   "outputs": [],
   "source": [
    "let array1 = [|1;2;3;4;5;6;7|]\n",
    "\n",
    "// access single element\n",
    "array1.[0]"
   ]
  },
  {
   "cell_type": "code",
   "execution_count": null,
   "metadata": {},
   "outputs": [],
   "source": [
    "// Accesses elements from 0 to 2.\n",
    "array1.[0..2]"
   ]
  },
  {
   "cell_type": "code",
   "execution_count": null,
   "metadata": {},
   "outputs": [],
   "source": [
    "// Accesses elements from the beginning of the array to 2.\n",
    "array1.[..2]"
   ]
  },
  {
   "cell_type": "code",
   "execution_count": null,
   "metadata": {},
   "outputs": [],
   "source": [
    "// Accesses elements from 2 to the end of the array.\n",
    "array1.[2..]"
   ]
  },
  {
   "cell_type": "markdown",
   "metadata": {},
   "source": [
    "## [Sequence](https://docs.microsoft.com/en-us/dotnet/fsharp/language-reference/sequences)\n",
    "\n",
    "- What makes Sequences unique is that they are lazy\n",
    "- They are calculated as you need them\n",
    "- You can create Sequence Expressions"
   ]
  },
  {
   "cell_type": "code",
   "execution_count": null,
   "metadata": {},
   "outputs": [],
   "source": [
    "// Sequence that has an increment.\n",
    "seq { 0 .. 10 .. 100 }"
   ]
  },
  {
   "cell_type": "code",
   "execution_count": null,
   "metadata": {},
   "outputs": [],
   "source": [
    "seq { for i in 1 .. 10 do yield i * i }"
   ]
  },
  {
   "cell_type": "code",
   "execution_count": 9,
   "metadata": {},
   "outputs": [],
   "source": [
    "let rec fib elem = match elem with\n",
    "                   | 0 | 1 -> elem\n",
    "                   | x -> fib (x - 2) + fib (x - 1)  // Not the same as x -> (fib x - 2) + (fib x - 1) -- this will stackoverflow\n",
    "\n",
    "let fibSeq = seq { for i in 1 .. 100 do yield fib i}"
   ]
  },
  {
   "cell_type": "code",
   "execution_count": 8,
   "metadata": {},
   "outputs": [
    {
     "data": {
      "text/plain": [
       "seq [1; 1; 2; 3; ...]"
      ]
     },
     "execution_count": 8,
     "metadata": {},
     "output_type": "execute_result"
    }
   ],
   "source": [
    "fibSeq |> Seq.take 10"
   ]
  },
  {
   "cell_type": "markdown",
   "metadata": {},
   "source": [
    "## [Map](https://www.tutorialspoint.com/fsharp/fsharp_maps.htm)"
   ]
  },
  {
   "cell_type": "code",
   "execution_count": 14,
   "metadata": {},
   "outputs": [],
   "source": [
    "Map.empty"
   ]
  },
  {
   "cell_type": "code",
   "execution_count": 15,
   "metadata": {},
   "outputs": [
    {
     "data": {
      "text/plain": [
       "map [(\"key\", \"value\")]"
      ]
     },
     "execution_count": 15,
     "metadata": {},
     "output_type": "execute_result"
    }
   ],
   "source": [
    "Map.empty.Add(\"key\", \"value\")"
   ]
  },
  {
   "cell_type": "code",
   "execution_count": 19,
   "metadata": {},
   "outputs": [
    {
     "data": {
      "text/plain": [
       "map [(\"A\", 1); (\"B\", 2); (\"C\", 3)]"
      ]
     },
     "execution_count": 19,
     "metadata": {},
     "output_type": "execute_result"
    }
   ],
   "source": [
    "let mapFromList = [\"A\",1; \"B\", 2; \"C\", 3] |> Map.ofList\n",
    "mapFromList"
   ]
  },
  {
   "cell_type": "code",
   "execution_count": 20,
   "metadata": {},
   "outputs": [
    {
     "data": {
      "text/plain": [
       "1"
      ]
     },
     "execution_count": 20,
     "metadata": {},
     "output_type": "execute_result"
    }
   ],
   "source": [
    "mapFromList.[\"A\"]"
   ]
  },
  {
   "cell_type": "markdown",
   "metadata": {},
   "source": [
    "## [Set](https://www.tutorialspoint.com/fsharp/fsharp_sets.htm)"
   ]
  },
  {
   "cell_type": "code",
   "execution_count": 21,
   "metadata": {},
   "outputs": [],
   "source": [
    "Set.empty"
   ]
  },
  {
   "cell_type": "code",
   "execution_count": 22,
   "metadata": {},
   "outputs": [
    {
     "data": {
      "text/plain": [
       "set [3; 5; 7; 9]"
      ]
     },
     "execution_count": 22,
     "metadata": {},
     "output_type": "execute_result"
    }
   ],
   "source": [
    "Set.empty.Add(3).Add(5).Add(7). Add(9)"
   ]
  },
  {
   "cell_type": "code",
   "execution_count": 24,
   "metadata": {},
   "outputs": [],
   "source": [
    "let months = Set.ofList [\"JAN\"; \"FEB\"; \"MAR\"; \"APR\"; \"MAY\"]"
   ]
  },
  {
   "cell_type": "code",
   "execution_count": 25,
   "metadata": {},
   "outputs": [
    {
     "data": {
      "text/plain": [
       "true"
      ]
     },
     "execution_count": 25,
     "metadata": {},
     "output_type": "execute_result"
    }
   ],
   "source": [
    "months.Contains(\"JAN\")"
   ]
  },
  {
   "cell_type": "markdown",
   "metadata": {},
   "source": [
    "# [User Defined Types](https://fsharpforfunandprofit.com/posts/overview-of-types-in-fsharp/#field-guide-to-the-type-keyword)"
   ]
  },
  {
   "cell_type": "markdown",
   "metadata": {},
   "source": [
    "## Type Aliasing"
   ]
  },
  {
   "cell_type": "code",
   "execution_count": 32,
   "metadata": {},
   "outputs": [],
   "source": [
    "type PersondId = int"
   ]
  },
  {
   "cell_type": "markdown",
   "metadata": {},
   "source": [
    "## Record Types\n",
    "- (In essence) Analog of\n",
    "  - Data class in Kotlin\n",
    "  - Case class in Scala\n",
    "  - A class you would insantiate with data in other mainstream languages"
   ]
  },
  {
   "cell_type": "code",
   "execution_count": 38,
   "metadata": {},
   "outputs": [
    {
     "data": {
      "text/plain": [
       "Person's first name is Mister\n"
      ]
     },
     "metadata": {},
     "output_type": "display_data"
    }
   ],
   "source": [
    "type PersonId = int\n",
    "type Person = {id: PersonId; Firstname: string; Lastname: string}\n",
    "\n",
    "let printFirstName p = printfn \"Person's first name is %s\" p.Firstname\n",
    "\n",
    "printFirstName {id = 1; Firstname = \"Mister\"; Lastname = \"T\"} //How does it know this is a Person? Structural Typing"
   ]
  },
  {
   "cell_type": "markdown",
   "metadata": {},
   "source": [
    "### Quick note on [Structural Typing](https://fsharpforfunandprofit.com/posts/convenience-types/#most-f-types-have-built-in-structural-equality)\n",
    "- The gist of it is, if the type being passed in has the same schema as a type, it can be inferred to be that type. \n",
    "- If you have two types with similar schemas, you would need to specify types in functions"
   ]
  },
  {
   "cell_type": "markdown",
   "metadata": {},
   "source": [
    "## Enum Type"
   ]
  },
  {
   "cell_type": "code",
   "execution_count": 18,
   "metadata": {},
   "outputs": [
    {
     "data": {
      "text/plain": [
       "1"
      ]
     },
     "execution_count": 18,
     "metadata": {},
     "output_type": "execute_result"
    }
   ],
   "source": [
    "type RGB = | Red = 1 | Green = 2 | Blue = 3\n",
    "\n",
    "let red = RGB.Red\n",
    "let redValue = int red\n",
    "redValue"
   ]
  },
  {
   "cell_type": "markdown",
   "metadata": {},
   "source": [
    "## OO Style Class"
   ]
  },
  {
   "cell_type": "code",
   "execution_count": 20,
   "metadata": {},
   "outputs": [
    {
     "data": {
      "text/plain": [
       "\"Some\""
      ]
     },
     "execution_count": 20,
     "metadata": {},
     "output_type": "execute_result"
    }
   ],
   "source": [
    "type PersonClass (firstName: string, lastName: string)=\n",
    "  member this.FirstName = firstName\n",
    "  member this.LastName = lastName\n",
    "\n",
    "let person = PersonClass(\"Some\", \"one\")\n",
    "person.FirstName"
   ]
  },
  {
   "cell_type": "markdown",
   "metadata": {},
   "source": [
    "## Interface"
   ]
  },
  {
   "cell_type": "code",
   "execution_count": 21,
   "metadata": {},
   "outputs": [],
   "source": [
    "type Addable =\n",
    "    abstract member Add: int -> int -> int"
   ]
  },
  {
   "cell_type": "markdown",
   "metadata": {},
   "source": [
    "## Discriminated Unions (aka 'OR' Types)"
   ]
  },
  {
   "cell_type": "code",
   "execution_count": 8,
   "metadata": {},
   "outputs": [
    {
     "data": {
      "text/plain": [
       "<fun:it@13> : (Suit -> string)"
      ]
     },
     "execution_count": 8,
     "metadata": {},
     "output_type": "execute_result"
    }
   ],
   "source": [
    "type Suit = Club | Diamond | Spade | Heart\n",
    "\n",
    "type Rank = Two | Three | Four | Five | Six | Seven | Eight \n",
    "            | Nine | Ten | Jack | Queen | King | Ace\n",
    "            \n",
    "let suitAsString suit = match suit with\n",
    "                         | Club -> \"Club\"\n",
    "                         | Diamond -> \"Diamond\"\n",
    "                         | Spade -> \"Spade\"\n",
    "                         | Heart -> \"Heart\"\n",
    "suitAsString"
   ]
  },
  {
   "cell_type": "markdown",
   "metadata": {},
   "source": [
    "# Functions"
   ]
  },
  {
   "cell_type": "markdown",
   "metadata": {},
   "source": [
    "## Types Representing Functions"
   ]
  },
  {
   "cell_type": "code",
   "execution_count": 44,
   "metadata": {},
   "outputs": [],
   "source": [
    "type Username = string\n",
    "type UsernamePrinter = Username -> string\n",
    "\n",
    "type User ={Firstname: string; Lastname: string}\n",
    "type GetUser = int -> User\n",
    "type DbConnection<'a> = Conn of 'a\n",
    "type DbGetUser<'a> = DbConnection<'a> -> GetUser"
   ]
  },
  {
   "cell_type": "markdown",
   "metadata": {},
   "source": [
    "## Anonymous Functions / Lambda"
   ]
  },
  {
   "cell_type": "code",
   "execution_count": 45,
   "metadata": {},
   "outputs": [
    {
     "data": {
      "text/plain": [
       "<fun:it@1-4> : (int -> (int -> int))"
      ]
     },
     "execution_count": 45,
     "metadata": {},
     "output_type": "execute_result"
    }
   ],
   "source": [
    "fun a b -> a + b"
   ]
  },
  {
   "cell_type": "markdown",
   "metadata": {},
   "source": [
    "## Curried Functions\n",
    "- All functions in F# 'Curry' by default\n",
    "- Currying is a fancy way of saying a function of N arguments will produce a chain of N functions\n",
    "  - So a function that accepts 3 parameters is equvalient to 3 functions accepting 1 parameter, chained together\n",
    "  - f g h i looks like f(g)(h)(i)"
   ]
  },
  {
   "cell_type": "code",
   "execution_count": 4,
   "metadata": {},
   "outputs": [
    {
     "data": {
      "text/plain": [
       "\"[|PREFIX|]====> This is my log content\""
      ]
     },
     "execution_count": 4,
     "metadata": {},
     "output_type": "execute_result"
    }
   ],
   "source": [
    "open System\n",
    "\n",
    "let log prefix content = String.Format(\"[{0}]====> {1}\", prefix, content)\n",
    "\n",
    "let prefixedLog = log \"|PREFIX|\"\n",
    "\n",
    "prefixedLog \"This is my log content\""
   ]
  },
  {
   "cell_type": "markdown",
   "metadata": {},
   "source": [
    "## Functional Necessities\n",
    "- Pipe Operator\n",
    "- Map\n",
    "- Reduce\n",
    "- Filter\n",
    "- Pattern Matching"
   ]
  },
  {
   "cell_type": "markdown",
   "metadata": {},
   "source": [
    "## Pipe Operator\n",
    "- The pipe operator \"pipes\" output of one function into another function"
   ]
  },
  {
   "cell_type": "code",
   "execution_count": 13,
   "metadata": {},
   "outputs": [
    {
     "data": {
      "text/plain": [
       "64"
      ]
     },
     "execution_count": 13,
     "metadata": {},
     "output_type": "execute_result"
    }
   ],
   "source": [
    "// let (|>) x fn = fn x ... allowing you to call the function like x |> fn\n",
    "let square n = n * n\n",
    "let cube n = n * n * n\n",
    "\n",
    "2 |> square |> cube"
   ]
  },
  {
   "cell_type": "markdown",
   "metadata": {},
   "source": [
    "## Map"
   ]
  },
  {
   "cell_type": "code",
   "execution_count": 6,
   "metadata": {},
   "outputs": [
    {
     "data": {
      "text/plain": [
       "[2; 4; 6]"
      ]
     },
     "execution_count": 6,
     "metadata": {},
     "output_type": "execute_result"
    }
   ],
   "source": [
    "[1; 2; 3] |> List.map (fun x -> x * 2)"
   ]
  },
  {
   "cell_type": "markdown",
   "metadata": {},
   "source": [
    "## Reduce"
   ]
  },
  {
   "cell_type": "code",
   "execution_count": 9,
   "metadata": {},
   "outputs": [
    {
     "data": {
      "text/plain": [
       "6"
      ]
     },
     "execution_count": 9,
     "metadata": {},
     "output_type": "execute_result"
    }
   ],
   "source": [
    "[1; 2; 3] |> List.reduce (fun a b -> a + b)"
   ]
  },
  {
   "cell_type": "markdown",
   "metadata": {},
   "source": [
    "## Filter"
   ]
  },
  {
   "cell_type": "code",
   "execution_count": 11,
   "metadata": {},
   "outputs": [
    {
     "data": {
      "text/plain": [
       "[2; 4; 6; 8]"
      ]
     },
     "execution_count": 11,
     "metadata": {},
     "output_type": "execute_result"
    }
   ],
   "source": [
    "[1; 2; 3; 4; 5; 6; 7; 8; 9] |> List.filter (fun x -> x % 2 = 0)"
   ]
  },
  {
   "cell_type": "markdown",
   "metadata": {},
   "source": [
    "## Pattern Matching"
   ]
  },
  {
   "cell_type": "code",
   "execution_count": 19,
   "metadata": {},
   "outputs": [
    {
     "data": {
      "text/plain": [
       "\"This is John\""
      ]
     },
     "execution_count": 19,
     "metadata": {},
     "output_type": "execute_result"
    }
   ],
   "source": [
    "type RandomPerson = {Name: string; Age: int; Active: bool }\n",
    "\n",
    "let john = {Name=\"John\"; Age=20; Active=true}\n",
    "let susan = {Name=\"Susan\"; Age=22; Active=true}\n",
    "\n",
    "let pickJohnOrSusan randomPerson = \n",
    "  match randomPerson with\n",
    "    | {RandomPerson.Name=\"John\"} -> \"This is John\" \n",
    "    | {RandomPerson.Name=\"Susan\"} -> \"This is Susan\"\n",
    "    | _ -> \"I dont know who this is\"\n",
    "       \n",
    "pickJohnOrSusan john\n"
   ]
  },
  {
   "cell_type": "markdown",
   "metadata": {},
   "source": [
    "# [C# Interop](https://fsharpforfunandprofit.com/posts/completeness-seamless-dotnet-interop/#tryparse-and-trygetvalue)"
   ]
  },
  {
   "cell_type": "code",
   "execution_count": 30,
   "metadata": {},
   "outputs": [
    {
     "data": {
      "text/plain": [
       "parsed as 123\n",
       "parse failed\n"
      ]
     },
     "metadata": {},
     "output_type": "display_data"
    }
   ],
   "source": [
    "let (i1success,i1) = System.Int32.TryParse(\"123\");\n",
    "if i1success then printfn \"parsed as %i\" i1 else printfn \"parse failed\"\n",
    "\n",
    "let (i2success,i2) = System.Int32.TryParse(\"hello\");\n",
    "if i2success then printfn \"parsed as %i\" i2 else printfn \"parse failed\"\n",
    "\n",
    "//using a dictionary\n",
    "let dict = new System.Collections.Generic.Dictionary<string,string>();\n",
    "dict.Add(\"a\",\"hello\")\n",
    "let (e1success,e1) = dict.TryGetValue(\"a\");\n",
    "let (e2success,e2) = dict.TryGetValue(\"b\");"
   ]
  },
  {
   "cell_type": "markdown",
   "metadata": {},
   "source": [
    "# Misc Other Cool things about F# \n",
    "- [Type Providers](https://docs.microsoft.com/en-us/dotnet/fsharp/tutorials/type-providers/)\n",
    "- [Computation Expressions](https://fsharpforfunandprofit.com/posts/computation-expressions-intro/)\n",
    "- REPL Driven Development with Compile time safety\n",
    "- Can integrate with C# projects & Azure"
   ]
  },
  {
   "cell_type": "markdown",
   "metadata": {},
   "source": [
    "# Closing Thoughts\n",
    "- It's hard to find a good book on F#, but that's because Scott Wlaschin has a great blog called: https://fsharpforfunandprofit.com that pretty much lays out **EVERYTHING** about F#\n",
    "  - You can download it as an ebook here: https://fsharpforfunandprofit.com/books/\n",
    "  - It's about 2000 pages worth of content, no joke.\n",
    "- [Domain Modeling Made Functional](https://pragprog.com/book/swdddf/domain-modeling-made-functional)\n",
    "  - Great book that touches on some features of F#, but really explores the powerful expressivness of types"
   ]
  },
  {
   "cell_type": "markdown",
   "metadata": {},
   "source": [
    "# Attributions\n",
    "- https://fsharpforfunandprofit.com"
   ]
  },
  {
   "cell_type": "code",
   "execution_count": null,
   "metadata": {},
   "outputs": [],
   "source": []
  }
 ],
 "metadata": {
  "kernelspec": {
   "display_name": "F#",
   "language": "fsharp",
   "name": "ifsharp"
  },
  "language": "fsharp",
  "language_info": {
   "codemirror_mode": "",
   "file_extension": ".fs",
   "mimetype": "text/x-fsharp",
   "name": "fsharp",
   "nbconvert_exporter": "",
   "pygments_lexer": "",
   "version": "4.3.1.0"
  }
 },
 "nbformat": 4,
 "nbformat_minor": 2
}
